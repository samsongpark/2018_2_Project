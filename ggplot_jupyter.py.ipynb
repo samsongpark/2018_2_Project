{
 "cells": [
  {
   "cell_type": "code",
   "execution_count": null,
   "metadata": {},
   "outputs": [],
   "source": [
    "from ggplot import *\n",
    "import pandas as pd\n",
    "\n",
    "# Adding a Title\n",
    "ggplot(mpg, aes(x='cty', y='hwy')) + \\\n",
    "    geom_point() + \\\n",
    "    ggtitle(\"City vs. Highway Miles per Gallon\")\n",
    "    \n",
    "# Adding Labels\n",
    "ggplot(mpg, aes(x='cty')) + \\\n",
    "    geom_histogram() + \\\n",
    "    xlab(\"City MPG (Miles per Gallon)\") + \\\n",
    "    ylab(\"# of Obs\")\n",
    "\n",
    "# Adjusting Shapes\n",
    "ggplot(mpg, aes(x='cty', y='hwy', shape='trans')) + geom_point()\n",
    "\n",
    "# Area Chart\n",
    "ggplot(meat, aes(x='date', y='beef')) + \\\n",
    "    geom_area() + \\\n",
    "    scale_x_date(labels='%Y')\n",
    "\n",
    "# Bar Chart\n",
    "ggplot(mtcars, aes(x='factor(cyl)', fill='factor(gear)')) + geom_bar()\n",
    "\n",
    "# Boxplots\n",
    "ggplot(mtcars, aes(x='factor(cyl)', y='mpg')) + geom_boxplot()\n",
    "\n",
    "# Color Palettes\n",
    "ggplot(diamonds, aes(x='carat', y='price', color='clarity')) + \\\n",
    "    geom_point() + \\\n",
    "    scale_color_brewer()\n",
    "    \n",
    "# Faceting Basics\n",
    "df = pd.melt(meat, id_vars=\"date\")\n",
    "ggplot(diamonds, aes(x='carat', y='price', color='cut')) + \\\n",
    "    geom_point() + \\\n",
    "    facet_grid(\"clarity\", \"color\")\n",
    "\n",
    "ggplot(diamonds, aes(x='carat', y='price')) + \\\n",
    "    stat_smooth(method='loess') + \\\n",
    "    facet_grid(\"clarity\", \"cut\")\n",
    "\n",
    "# Scatter Plot\n",
    "ggplot(chopsticks, aes(x='individual', y='food_pinching_effeciency')) + geom_point()\n",
    "\n",
    "# Smoothed Line Chart\n",
    "ggplot(meat, aes(x='date', y='beef')) + \\\n",
    "    geom_point() + \\\n",
    "    stat_smooth(ma=12, color='coral')"
   ]
  }
 ],
 "metadata": {
  "kernelspec": {
   "display_name": "Python 3",
   "language": "python",
   "name": "python3"
  },
  "language_info": {
   "codemirror_mode": {
    "name": "ipython",
    "version": 3
   },
   "file_extension": ".py",
   "mimetype": "text/x-python",
   "name": "python",
   "nbconvert_exporter": "python",
   "pygments_lexer": "ipython3",
   "version": "3.7.0"
  }
 },
 "nbformat": 4,
 "nbformat_minor": 2
}
