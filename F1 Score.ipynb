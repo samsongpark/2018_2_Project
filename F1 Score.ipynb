{
 "cells": [
  {
   "cell_type": "code",
   "execution_count": null,
   "metadata": {},
   "outputs": [],
   "source": [
    "from sklearn import metrics\n",
    "#Prediction\n",
    "y_pred = [0,1,0,0]\n",
    "#True\n",
    "y_true = [0,1,0,1]\n",
    "\n",
    "print(\"accuracy_score : {0:2f}%\".format(metrics.accuray_score(y_true, y_pred)*100))\n",
    "\n",
    "print(\"precision_score : {0:2f}%\".format(metrics.precision_score(y_true, y_pred)*100))"
   ]
  }
 ],
 "metadata": {
  "kernelspec": {
   "display_name": "Python 3",
   "language": "python",
   "name": "python3"
  },
  "language_info": {
   "codemirror_mode": {
    "name": "ipython",
    "version": 3
   },
   "file_extension": ".py",
   "mimetype": "text/x-python",
   "name": "python",
   "nbconvert_exporter": "python",
   "pygments_lexer": "ipython3",
   "version": "3.7.0"
  }
 },
 "nbformat": 4,
 "nbformat_minor": 2
}
