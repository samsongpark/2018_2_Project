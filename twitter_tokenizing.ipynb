{
 "cells": [
  {
   "cell_type": "code",
   "execution_count": null,
   "metadata": {},
   "outputs": [],
   "source": [
    "import pandas as pd\n",
    "import numpy as np\n",
    "from konlpy.tag import Twitter\n",
    "\n",
    "import os\n",
    "\n",
    "t  = pd.read_csv(\"tokenizing.csv\",encoding=\"cp949\")\n",
    "\n",
    "df = pd.DataFrame({\n",
    "    \"tweet\" : [ t.ptext[i] for i in range(len(t.ptext))]\n",
    "})\n",
    "\n",
    "\n",
    "twitter = Twitter()\n",
    "def tokenizer_twitter_morphs(doc):\n",
    "    return twitter.morphs(doc)\n",
    "\n",
    "\n",
    "df['token_review'] = df['tweet'].apply(tokenizer_twitter_morphs)\n",
    "\n",
    "df.to_csv('tokenizing.csv',encoding=\"utf-8\")"
   ]
  }
 ],
 "metadata": {
  "kernelspec": {
   "display_name": "Python 3",
   "language": "python",
   "name": "python3"
  },
  "language_info": {
   "codemirror_mode": {
    "name": "ipython",
    "version": 3
   },
   "file_extension": ".py",
   "mimetype": "text/x-python",
   "name": "python",
   "nbconvert_exporter": "python",
   "pygments_lexer": "ipython3",
   "version": "3.7.0"
  }
 },
 "nbformat": 4,
 "nbformat_minor": 2
}
